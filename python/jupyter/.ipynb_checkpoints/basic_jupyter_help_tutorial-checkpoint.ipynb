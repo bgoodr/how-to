{
 "cells": [
  {
   "cell_type": "markdown",
   "metadata": {},
   "source": [
    "# Introduction "
   ]
  },
  {
   "cell_type": "markdown",
   "metadata": {},
   "source": [
    "This is a basic tutorial on getting direct info and help of python modules from within a Jupyter notebook. Some of this tutorial is specific to Linux (particularly the commands that start with \"**!**\")."
   ]
  },
  {
   "cell_type": "markdown",
   "metadata": {},
   "source": [
    "# Getting Basic Help from the Python interpreter"
   ]
  },
  {
   "cell_type": "markdown",
   "metadata": {},
   "source": [
    "Let's get help on Python's built-in abs function:"
   ]
  },
  {
   "cell_type": "code",
   "execution_count": 6,
   "metadata": {
    "scrolled": true
   },
   "outputs": [
    {
     "name": "stdout",
     "output_type": "stream",
     "text": [
      "Help on built-in function abs in module __builtin__:\n",
      "\n",
      "abs(...)\n",
      "    abs(number) -> number\n",
      "    \n",
      "    Return the absolute value of the argument.\n",
      "\n"
     ]
    }
   ],
   "source": [
    "help(abs)"
   ]
  },
  {
   "cell_type": "markdown",
   "metadata": {},
   "source": [
    "We have to import the numpy module in order to get help on any of its functions which we attempt below. But if we ask for help on all of np (numpy), it blocks it due to simply too much output for the browser to handle. Besides, we won't be able to read it all in one sitting. So see the Help menu in the notebook web page for numpy which today points to: https://docs.scipy.org/doc/numpy/reference/"
   ]
  },
  {
   "cell_type": "code",
   "execution_count": 14,
   "metadata": {},
   "outputs": [
    {
     "name": "stderr",
     "output_type": "stream",
     "text": [
      "IOPub data rate exceeded.\n",
      "The notebook server will temporarily stop sending output\n",
      "to the client in order to avoid crashing it.\n",
      "To change this limit, set the config variable\n",
      "`--NotebookApp.iopub_data_rate_limit`.\n"
     ]
    }
   ],
   "source": [
    "import numpy as np\n",
    "help(np)"
   ]
  },
  {
   "cell_type": "markdown",
   "metadata": {},
   "source": [
    "but we can execute commands from the Linux shell like this:"
   ]
  },
  {
   "cell_type": "code",
   "execution_count": 15,
   "metadata": {},
   "outputs": [
    {
     "name": "stdout",
     "output_type": "stream",
     "text": [
      "this is output from the echo command from the Linux shell\r\n"
     ]
    }
   ],
   "source": [
    "!echo this is output from the echo command from the Linux shell"
   ]
  },
  {
   "cell_type": "code",
   "execution_count": 16,
   "metadata": {},
   "outputs": [
    {
     "name": "stdout",
     "output_type": "stream",
     "text": [
      "Python 2.7.13 :: Continuum Analytics, Inc.\r\n"
     ]
    }
   ],
   "source": [
    "!python --version"
   ]
  },
  {
   "cell_type": "code",
   "execution_count": 18,
   "metadata": {},
   "outputs": [
    {
     "name": "stdout",
     "output_type": "stream",
     "text": [
      "foo\r\n",
      "bar\r\n"
     ]
    }
   ],
   "source": [
    "!python -c 'print(\"foo\"); print(\"bar\")'"
   ]
  },
  {
   "cell_type": "markdown",
   "metadata": {},
   "source": [
    "We can count the number of lines of output of whatever command we want. Here it is the simple one-liner of python that is generating two lines of output:"
   ]
  },
  {
   "cell_type": "code",
   "execution_count": 19,
   "metadata": {},
   "outputs": [
    {
     "name": "stdout",
     "output_type": "stream",
     "text": [
      "2\r\n"
     ]
    }
   ],
   "source": [
    "!python -c 'print(\"foo\"); print(\"bar\")' | wc -l"
   ]
  },
  {
   "cell_type": "markdown",
   "metadata": {},
   "source": [
    "And here is why we got the **`IOPub data rate exceeded`** error above! There is a **lot** of output from the help on the `np` module, and we do not want to see it all, anyhow."
   ]
  },
  {
   "cell_type": "code",
   "execution_count": 2,
   "metadata": {},
   "outputs": [
    {
     "name": "stdout",
     "output_type": "stream",
     "text": [
      "90529\r\n"
     ]
    }
   ],
   "source": [
    "!python -c 'import numpy as np; help(np)' | wc -l"
   ]
  },
  {
   "cell_type": "markdown",
   "metadata": {},
   "source": [
    "But we can explore some of it by using basic Linux shell commands:"
   ]
  },
  {
   "cell_type": "code",
   "execution_count": 4,
   "metadata": {},
   "outputs": [
    {
     "name": "stdout",
     "output_type": "stream",
     "text": [
      "Help on package numpy:\r\n",
      "\r\n",
      "NAME\r\n",
      "    numpy\r\n",
      "\r\n",
      "FILE\r\n",
      "    /home/brentg/conda/Ubuntu.16.04.miniconda2/envs/env1/lib/python2.7/site-packages/numpy/__init__.py\r\n",
      "\r\n",
      "DESCRIPTION\r\n",
      "    NumPy\r\n",
      "    =====\r\n",
      "    \r\n",
      "    Provides\r\n",
      "      1. An array object of arbitrary homogeneous items\r\n",
      "      2. Fast mathematical operations over arrays\r\n",
      "      3. Linear Algebra, Fourier Transforms, Random Number Generation\r\n",
      "    \r\n",
      "    How to use the documentation\r\n",
      "    ----------------------------\r\n",
      "    Documentation is available in two forms: docstrings provided\r\n",
      "Traceback (most recent call last):\r\n",
      "  File \"<string>\", line 1, in <module>\r\n",
      "  File \"/home/brentg/conda/Ubuntu.16.04.miniconda2/envs/env1/lib/python2.7/site.py\", line 446, in __call__\r\n",
      "    return pydoc.help(*args, **kwds)\r\n",
      "  File \"/home/brentg/conda/Ubuntu.16.04.miniconda2/envs/env1/lib/python2.7/pydoc.py\", line 1795, in __call__\r\n",
      "    self.help(request)\r\n",
      "  File \"/home/brentg/conda/Ubuntu.16.04.miniconda2/envs/env1/lib/python2.7/pydoc.py\", line 1842, in help\r\n",
      "    else: doc(request, 'Help on %s:')\r\n",
      "  File \"/home/brentg/conda/Ubuntu.16.04.miniconda2/envs/env1/lib/python2.7/pydoc.py\", line 1579, in doc\r\n",
      "    pager(render_doc(thing, title, forceload))\r\n",
      "  File \"/home/brentg/conda/Ubuntu.16.04.miniconda2/envs/env1/lib/python2.7/pydoc.py\", line 1376, in pager\r\n",
      "    pager(text)\r\n",
      "  File \"/home/brentg/conda/Ubuntu.16.04.miniconda2/envs/env1/lib/python2.7/pydoc.py\", line 1482, in plainpager\r\n",
      "    sys.stdout.write(_encode(plain(text), getattr(sys.stdout, 'encoding', _encoding)))\r\n",
      "IOError: [Errno 32] Broken pipe\r\n"
     ]
    }
   ],
   "source": [
    "!python -c 'import numpy as np; help(np)' | head -20"
   ]
  },
  {
   "cell_type": "markdown",
   "metadata": {},
   "source": [
    "We can ignore the big traceback from python. All it is telling us that it failed to write to the stdout, because the `head` command is closing its side of the pipe after **20** lines of output received.\n",
    "\n",
    "That is nothing to worry about, but if we cared, we could just use **`2>/dev/null`** to send all of the error (on stderr!) to the bit bucket to hide it (which normally, we should not do because it would hide errors we do need to pay attention to, but not in this peculiar case):"
   ]
  },
  {
   "cell_type": "code",
   "execution_count": 5,
   "metadata": {},
   "outputs": [
    {
     "name": "stdout",
     "output_type": "stream",
     "text": [
      "Help on package numpy:\r\n",
      "\r\n",
      "NAME\r\n",
      "    numpy\r\n",
      "\r\n",
      "FILE\r\n",
      "    /home/brentg/conda/Ubuntu.16.04.miniconda2/envs/env1/lib/python2.7/site-packages/numpy/__init__.py\r\n",
      "\r\n",
      "DESCRIPTION\r\n",
      "    NumPy\r\n",
      "    =====\r\n",
      "    \r\n",
      "    Provides\r\n",
      "      1. An array object of arbitrary homogeneous items\r\n",
      "      2. Fast mathematical operations over arrays\r\n",
      "      3. Linear Algebra, Fourier Transforms, Random Number Generation\r\n",
      "    \r\n",
      "    How to use the documentation\r\n",
      "    ----------------------------\r\n",
      "    Documentation is available in two forms: docstrings provided\r\n"
     ]
    }
   ],
   "source": [
    "!python -c 'import numpy as np; help(np)' 2>/dev/null | head -20"
   ]
  },
  {
   "cell_type": "markdown",
   "metadata": {},
   "source": [
    "# Getting help on numpy functions"
   ]
  },
  {
   "cell_type": "markdown",
   "metadata": {},
   "source": [
    "If we know what function within the particular module from online resources such as https://docs.scipy.org/doc/numpy/reference/) we are interested in, we can directly get help on it within the Jupyter notebook. But we do need to import the module before asking for it, as otherwise we will see an error:"
   ]
  },
  {
   "cell_type": "code",
   "execution_count": 6,
   "metadata": {},
   "outputs": [
    {
     "name": "stdout",
     "output_type": "stream",
     "text": [
      "Help on function linspace in module numpy.core.function_base:\n",
      "\n",
      "linspace(start, stop, num=50, endpoint=True, retstep=False, dtype=None)\n",
      "    Return evenly spaced numbers over a specified interval.\n",
      "    \n",
      "    Returns `num` evenly spaced samples, calculated over the\n",
      "    interval [`start`, `stop`].\n",
      "    \n",
      "    The endpoint of the interval can optionally be excluded.\n",
      "    \n",
      "    Parameters\n",
      "    ----------\n",
      "    start : scalar\n",
      "        The starting value of the sequence.\n",
      "    stop : scalar\n",
      "        The end value of the sequence, unless `endpoint` is set to False.\n",
      "        In that case, the sequence consists of all but the last of ``num + 1``\n",
      "        evenly spaced samples, so that `stop` is excluded.  Note that the step\n",
      "        size changes when `endpoint` is False.\n",
      "    num : int, optional\n",
      "        Number of samples to generate. Default is 50. Must be non-negative.\n",
      "    endpoint : bool, optional\n",
      "        If True, `stop` is the last sample. Otherwise, it is not included.\n",
      "        Default is True.\n",
      "    retstep : bool, optional\n",
      "        If True, return (`samples`, `step`), where `step` is the spacing\n",
      "        between samples.\n",
      "    dtype : dtype, optional\n",
      "        The type of the output array.  If `dtype` is not given, infer the data\n",
      "        type from the other input arguments.\n",
      "    \n",
      "        .. versionadded:: 1.9.0\n",
      "    \n",
      "    Returns\n",
      "    -------\n",
      "    samples : ndarray\n",
      "        There are `num` equally spaced samples in the closed interval\n",
      "        ``[start, stop]`` or the half-open interval ``[start, stop)``\n",
      "        (depending on whether `endpoint` is True or False).\n",
      "    step : float, optional\n",
      "        Only returned if `retstep` is True\n",
      "    \n",
      "        Size of spacing between samples.\n",
      "    \n",
      "    \n",
      "    See Also\n",
      "    --------\n",
      "    arange : Similar to `linspace`, but uses a step size (instead of the\n",
      "             number of samples).\n",
      "    logspace : Samples uniformly distributed in log space.\n",
      "    \n",
      "    Examples\n",
      "    --------\n",
      "    >>> np.linspace(2.0, 3.0, num=5)\n",
      "    array([ 2.  ,  2.25,  2.5 ,  2.75,  3.  ])\n",
      "    >>> np.linspace(2.0, 3.0, num=5, endpoint=False)\n",
      "    array([ 2. ,  2.2,  2.4,  2.6,  2.8])\n",
      "    >>> np.linspace(2.0, 3.0, num=5, retstep=True)\n",
      "    (array([ 2.  ,  2.25,  2.5 ,  2.75,  3.  ]), 0.25)\n",
      "    \n",
      "    Graphical illustration:\n",
      "    \n",
      "    >>> import matplotlib.pyplot as plt\n",
      "    >>> N = 8\n",
      "    >>> y = np.zeros(N)\n",
      "    >>> x1 = np.linspace(0, 10, N, endpoint=True)\n",
      "    >>> x2 = np.linspace(0, 10, N, endpoint=False)\n",
      "    >>> plt.plot(x1, y, 'o')\n",
      "    [<matplotlib.lines.Line2D object at 0x...>]\n",
      "    >>> plt.plot(x2, y + 0.5, 'o')\n",
      "    [<matplotlib.lines.Line2D object at 0x...>]\n",
      "    >>> plt.ylim([-0.5, 1])\n",
      "    (-0.5, 1)\n",
      "    >>> plt.show()\n",
      "\n"
     ]
    }
   ],
   "source": [
    "import numpy as np\n",
    "help(np.linspace)"
   ]
  },
  {
   "cell_type": "markdown",
   "metadata": {},
   "source": [
    "# Getting help on scipy functions"
   ]
  },
  {
   "cell_type": "markdown",
   "metadata": {},
   "source": [
    "Likewise, we can get help on scipi module functions:"
   ]
  },
  {
   "cell_type": "code",
   "execution_count": 15,
   "metadata": {},
   "outputs": [
    {
     "name": "stdout",
     "output_type": "stream",
     "text": [
      "Help on function fmin in module scipy.optimize.optimize:\n",
      "\n",
      "fmin(func, x0, args=(), xtol=0.0001, ftol=0.0001, maxiter=None, maxfun=None, full_output=0, disp=1, retall=0, callback=None, initial_simplex=None)\n",
      "    Minimize a function using the downhill simplex algorithm.\n",
      "    \n",
      "    This algorithm only uses function values, not derivatives or second\n",
      "    derivatives.\n",
      "    \n",
      "    Parameters\n",
      "    ----------\n",
      "    func : callable func(x,*args)\n",
      "        The objective function to be minimized.\n",
      "    x0 : ndarray\n",
      "        Initial guess.\n",
      "    args : tuple, optional\n",
      "        Extra arguments passed to func, i.e. ``f(x,*args)``.\n",
      "    xtol : float, optional\n",
      "        Absolute error in xopt between iterations that is acceptable for\n",
      "        convergence.\n",
      "    ftol : number, optional\n",
      "        Absolute error in func(xopt) between iterations that is acceptable for\n",
      "        convergence.\n",
      "    maxiter : int, optional\n",
      "        Maximum number of iterations to perform.\n",
      "    maxfun : number, optional\n",
      "        Maximum number of function evaluations to make.\n",
      "    full_output : bool, optional\n",
      "        Set to True if fopt and warnflag outputs are desired.\n",
      "    disp : bool, optional\n",
      "        Set to True to print convergence messages.\n",
      "    retall : bool, optional\n",
      "        Set to True to return list of solutions at each iteration.\n",
      "    callback : callable, optional\n",
      "        Called after each iteration, as callback(xk), where xk is the\n",
      "        current parameter vector.\n",
      "    initial_simplex : array_like of shape (N + 1, N), optional\n",
      "        Initial simplex. If given, overrides `x0`.\n",
      "        ``initial_simplex[j,:]`` should contain the coordinates of\n",
      "        the j-th vertex of the ``N+1`` vertices in the simplex, where\n",
      "        ``N`` is the dimension.\n",
      "    \n",
      "    Returns\n",
      "    -------\n",
      "    xopt : ndarray\n",
      "        Parameter that minimizes function.\n",
      "    fopt : float\n",
      "        Value of function at minimum: ``fopt = func(xopt)``.\n",
      "    iter : int\n",
      "        Number of iterations performed.\n",
      "    funcalls : int\n",
      "        Number of function calls made.\n",
      "    warnflag : int\n",
      "        1 : Maximum number of function evaluations made.\n",
      "        2 : Maximum number of iterations reached.\n",
      "    allvecs : list\n",
      "        Solution at each iteration.\n",
      "    \n",
      "    See also\n",
      "    --------\n",
      "    minimize: Interface to minimization algorithms for multivariate\n",
      "        functions. See the 'Nelder-Mead' `method` in particular.\n",
      "    \n",
      "    Notes\n",
      "    -----\n",
      "    Uses a Nelder-Mead simplex algorithm to find the minimum of function of\n",
      "    one or more variables.\n",
      "    \n",
      "    This algorithm has a long history of successful use in applications.\n",
      "    But it will usually be slower than an algorithm that uses first or\n",
      "    second derivative information. In practice it can have poor\n",
      "    performance in high-dimensional problems and is not robust to\n",
      "    minimizing complicated functions. Additionally, there currently is no\n",
      "    complete theory describing when the algorithm will successfully\n",
      "    converge to the minimum, or how fast it will if it does. Both the ftol and\n",
      "    xtol criteria must be met for convergence.\n",
      "    \n",
      "    References\n",
      "    ----------\n",
      "    .. [1] Nelder, J.A. and Mead, R. (1965), \"A simplex method for function\n",
      "           minimization\", The Computer Journal, 7, pp. 308-313\n",
      "    \n",
      "    .. [2] Wright, M.H. (1996), \"Direct Search Methods: Once Scorned, Now\n",
      "           Respectable\", in Numerical Analysis 1995, Proceedings of the\n",
      "           1995 Dundee Biennial Conference in Numerical Analysis, D.F.\n",
      "           Griffiths and G.A. Watson (Eds.), Addison Wesley Longman,\n",
      "           Harlow, UK, pp. 191-208.\n",
      "\n"
     ]
    }
   ],
   "source": [
    "import numpy as np\n",
    "import matplotlib as mpl\n",
    "\n",
    "from scipy import linalg, optimize\n",
    "\n",
    "# I don't know what difference there is between np.info and just Python's built-in help:\n",
    "#   np.info(optimize.fmin)\n",
    "\n",
    "help(optimize.fmin)"
   ]
  },
  {
   "cell_type": "markdown",
   "metadata": {},
   "source": [
    "It seems that the `np.info` function is close to the same as the builtin `help` function:"
   ]
  },
  {
   "cell_type": "code",
   "execution_count": 14,
   "metadata": {},
   "outputs": [
    {
     "name": "stdout",
     "output_type": "stream",
     "text": [
      "Help on function info in module numpy.lib.utils:\n",
      "\n",
      "info(object=None, maxwidth=76, output=<ipykernel.iostream.OutStream object>, toplevel='numpy')\n",
      "    Get help information for a function, class, or module.\n",
      "    \n",
      "    Parameters\n",
      "    ----------\n",
      "    object : object or str, optional\n",
      "        Input object or name to get information about. If `object` is a\n",
      "        numpy object, its docstring is given. If it is a string, available\n",
      "        modules are searched for matching objects.  If None, information\n",
      "        about `info` itself is returned.\n",
      "    maxwidth : int, optional\n",
      "        Printing width.\n",
      "    output : file like object, optional\n",
      "        File like object that the output is written to, default is\n",
      "        ``stdout``.  The object has to be opened in 'w' or 'a' mode.\n",
      "    toplevel : str, optional\n",
      "        Start search at this level.\n",
      "    \n",
      "    See Also\n",
      "    --------\n",
      "    source, lookfor\n",
      "    \n",
      "    Notes\n",
      "    -----\n",
      "    When used interactively with an object, ``np.info(obj)`` is equivalent\n",
      "    to ``help(obj)`` on the Python prompt or ``obj?`` on the IPython\n",
      "    prompt.\n",
      "    \n",
      "    Examples\n",
      "    --------\n",
      "    >>> np.info(np.polyval) # doctest: +SKIP\n",
      "       polyval(p, x)\n",
      "         Evaluate the polynomial p at x.\n",
      "         ...\n",
      "    \n",
      "    When using a string for `object` it is possible to get multiple results.\n",
      "    \n",
      "    >>> np.info('fft') # doctest: +SKIP\n",
      "         *** Found in numpy ***\n",
      "    Core FFT routines\n",
      "    ...\n",
      "         *** Found in numpy.fft ***\n",
      "     fft(a, n=None, axis=-1)\n",
      "    ...\n",
      "         *** Repeat reference found in numpy.fft.fftpack ***\n",
      "         *** Total of 3 references found. ***\n",
      "\n"
     ]
    }
   ],
   "source": [
    "help(np.info)"
   ]
  },
  {
   "cell_type": "markdown",
   "metadata": {},
   "source": [
    "# Finding numpy functions with keywords in doc strings "
   ]
  },
  {
   "cell_type": "code",
   "execution_count": 24,
   "metadata": {},
   "outputs": [
    {
     "name": "stdout",
     "output_type": "stream",
     "text": [
      "Help on function lookfor in module numpy.lib.utils:\n",
      "\n",
      "lookfor(what, module=None, import_modules=True, regenerate=False, output=None)\n",
      "    Do a keyword search on docstrings.\n",
      "    \n",
      "    A list of of objects that matched the search is displayed,\n",
      "    sorted by relevance. All given keywords need to be found in the\n",
      "    docstring for it to be returned as a result, but the order does\n",
      "    not matter.\n",
      "    \n",
      "    Parameters\n",
      "    ----------\n",
      "    what : str\n",
      "        String containing words to look for.\n",
      "    module : str or list, optional\n",
      "        Name of module(s) whose docstrings to go through.\n",
      "    import_modules : bool, optional\n",
      "        Whether to import sub-modules in packages. Default is True.\n",
      "    regenerate : bool, optional\n",
      "        Whether to re-generate the docstring cache. Default is False.\n",
      "    output : file-like, optional\n",
      "        File-like object to write the output to. If omitted, use a pager.\n",
      "    \n",
      "    See Also\n",
      "    --------\n",
      "    source, info\n",
      "    \n",
      "    Notes\n",
      "    -----\n",
      "    Relevance is determined only roughly, by checking if the keywords occur\n",
      "    in the function name, at the start of a docstring, etc.\n",
      "    \n",
      "    Examples\n",
      "    --------\n",
      "    >>> np.lookfor('binary representation')\n",
      "    Search results for 'binary representation'\n",
      "    ------------------------------------------\n",
      "    numpy.binary_repr\n",
      "        Return the binary representation of the input number as a string.\n",
      "    numpy.core.setup_common.long_double_representation\n",
      "        Given a binary dump as given by GNU od -b, look for long double\n",
      "    numpy.base_repr\n",
      "        Return a string representation of a number in the given base system.\n",
      "    ...\n",
      "\n"
     ]
    }
   ],
   "source": [
    "help(np.lookfor)"
   ]
  },
  {
   "cell_type": "code",
   "execution_count": 16,
   "metadata": {},
   "outputs": [
    {
     "name": "stdout",
     "output_type": "stream",
     "text": [
      "Search results for 'root'\n",
      "-------------------------\n",
      "numpy.roots\n",
      "    Return the roots of a polynomial with coefficients given in p.\n",
      "numpy.cbrt\n",
      "    Return the cube-root of an array, element-wise.\n",
      "numpy.poly\n",
      "    Find the coefficients of a polynomial with the given sequence of roots.\n",
      "numpy.sqrt\n",
      "    Return the positive square-root of an array, element-wise.\n",
      "numpy.ma.sqrt\n",
      "    Return the positive square-root of an array, element-wise.\n",
      "numpy.polynomial.Hermite.roots\n",
      "    Return the roots of the series polynomial.\n",
      "numpy.polynomial.Hermite._roots\n",
      "    Compute the roots of a Hermite series.\n",
      "numpy.polynomial.HermiteE.roots\n",
      "    Return the roots of the series polynomial.\n",
      "numpy.polynomial.Laguerre.roots\n",
      "    Return the roots of the series polynomial.\n",
      "numpy.polynomial.Legendre.roots\n",
      "    Return the roots of the series polynomial.\n",
      "numpy.polynomial.HermiteE._roots\n",
      "    Compute the roots of a HermiteE series.\n",
      "numpy.polynomial.Laguerre._roots\n",
      "    Compute the roots of a Laguerre series.\n",
      "numpy.polynomial.Legendre._roots\n",
      "    Compute the roots of a Legendre series.\n",
      "numpy.polynomial.Chebyshev._roots\n",
      "    Compute the roots of a Chebyshev series.\n",
      "numpy.polynomial.Polynomial.roots\n",
      "    Return the roots of the series polynomial.\n",
      "numpy.polynomial.Hermite.fromroots\n",
      "    Return series instance that has the specified roots.\n",
      "numpy.polynomial.Polynomial._roots\n",
      "    Compute the roots of a polynomial.\n",
      "numpy.polynomial.Hermite._fromroots\n",
      "    Generate a Hermite series with given roots.\n",
      "numpy.polynomial.HermiteE.fromroots\n",
      "    Return series instance that has the specified roots.\n",
      "numpy.polynomial.Laguerre.fromroots\n",
      "    Return series instance that has the specified roots.\n",
      "numpy.polynomial.Legendre.fromroots\n",
      "    Return series instance that has the specified roots.\n",
      "numpy.polynomial.HermiteE._fromroots\n",
      "    Generate a HermiteE series with given roots.\n",
      "numpy.polynomial.Laguerre._fromroots\n",
      "    Generate a Laguerre series with given roots.\n",
      "numpy.polynomial.Legendre._fromroots\n",
      "    Generate a Legendre series with given roots.\n",
      "numpy.polynomial.Chebyshev._fromroots\n",
      "    Generate a Chebyshev series with given roots.\n",
      "numpy.polynomial.Polynomial.fromroots\n",
      "    Return series instance that has the specified roots.\n",
      "numpy.polynomial.Polynomial._fromroots\n",
      "    Generate a monic polynomial with given roots.\n",
      "numpy.std\n",
      "    Compute the standard deviation along the specified axis.\n",
      "numpy.polynomial.polynomial.polyvalfromroots\n",
      "    Evaluate a polynomial specified by its roots at points x.\n",
      "numpy.nanstd\n",
      "    Compute the standard deviation along the specified axis, while\n",
      "numpy.poly1d\n",
      "    A one-dimensional polynomial class.\n",
      "numpy.histogram\n",
      "    Compute the histogram of a set of data.\n",
      "numpy.linalg.cond\n",
      "    Compute the condition number of a matrix.\n",
      "numpy.distutils.command.develop.develop.expand_basedirs\n",
      "    Calls `os.path.expanduser` on install_base, install_platbase and\n",
      "numpy.polynomial.hermite.hermgauss\n",
      "    Gauss-Hermite quadrature.\n",
      "numpy.polynomial.laguerre.laggauss\n",
      "    Gauss-Laguerre quadrature.\n",
      "numpy.polynomial.legendre.leggauss\n",
      "    Gauss-Legendre quadrature.\n",
      "numpy.polynomial.hermite_e.hermegauss\n",
      "    Gauss-HermiteE quadrature."
     ]
    }
   ],
   "source": [
    "np.lookfor('root')"
   ]
  }
 ],
 "metadata": {
  "kernelspec": {
   "display_name": "Python 2",
   "language": "python",
   "name": "python2"
  },
  "language_info": {
   "codemirror_mode": {
    "name": "ipython",
    "version": 2
   },
   "file_extension": ".py",
   "mimetype": "text/x-python",
   "name": "python",
   "nbconvert_exporter": "python",
   "pygments_lexer": "ipython2",
   "version": "2.7.13"
  }
 },
 "nbformat": 4,
 "nbformat_minor": 2
}
