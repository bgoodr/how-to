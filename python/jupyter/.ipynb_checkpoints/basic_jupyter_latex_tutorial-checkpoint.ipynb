{
 "cells": [
  {
   "cell_type": "markdown",
   "metadata": {},
   "source": [
    "# Introduction "
   ]
  },
  {
   "cell_type": "markdown",
   "metadata": {},
   "source": [
    "This is a basic tutorial on using Latex syntax inside a Jupyter notebook."
   ]
  },
  {
   "cell_type": "markdown",
   "metadata": {},
   "source": [
    "# Using Latex to typeset mathematical functions"
   ]
  },
  {
   "cell_type": "markdown",
   "metadata": {},
   "source": [
    "https://stackoverflow.com/a/13222501/257924 goes through the basics.\n",
    "\n",
    "http://nbviewer.jupyter.org/github/jrjohansson/scientific-python-lectures/blob/master/Lecture-4-Matplotlib.ipynb has a more indepth tutorial that includes Latex expressions."
   ]
  },
  {
   "cell_type": "markdown",
   "metadata": {},
   "source": [
    "Below is a example of using two dollar signs to group a Latex expression, but it dumps it onto a separate line:"
   ]
  },
  {
   "cell_type": "markdown",
   "metadata": {},
   "source": [
    "The raw markdown text is:\n",
    "\n",
    "    Here is the $$c = \\sqrt{a^2 + b^2}$$ equation.\n",
    "\n",
    "with the result being:"
   ]
  },
  {
   "cell_type": "markdown",
   "metadata": {},
   "source": [
    "Here is the $$c = \\sqrt{a^2 + b^2}$$ equation."
   ]
  },
  {
   "cell_type": "markdown",
   "metadata": {},
   "source": [
    "https://stackoverflow.com/a/19413196/257924 talks about how to inline the expression into the Markdown cell:"
   ]
  },
  {
   "cell_type": "markdown",
   "metadata": {},
   "source": [
    "So with this syntax:\n",
    "\n",
    "    Here is the $c = \\sqrt{a^2 + b^2}$ equation.\n",
    "    \n",
    "We get:"
   ]
  },
  {
   "cell_type": "markdown",
   "metadata": {},
   "source": [
    "Here is the $c = \\sqrt{a^2 + b^2}$ equation."
   ]
  },
  {
   "cell_type": "markdown",
   "metadata": {},
   "source": [
    "https://stackoverflow.com/a/19413196/257924 points to http://nbviewer.jupyter.org/github/ipython/ipython/blob/4.0.x/examples/Notebook/Typesetting%20Equations.ipynb which goes into greater detail."
   ]
  },
  {
   "cell_type": "markdown",
   "metadata": {},
   "source": [
    "# Examples of Latex syntax"
   ]
  },
  {
   "cell_type": "markdown",
   "metadata": {},
   "source": [
    "The \"bla\" words below is just to show where normal Markdown syntax begins and ends with the Latex code in between:"
   ]
  },
  {
   "cell_type": "markdown",
   "metadata": {},
   "source": [
    "Example:\n",
    "\n",
    "    bla $\\frac{1}{\\Bigl(\\sqrt{\\phi \\sqrt{5}}-\\phi\\Bigr) e^{\\frac25 \\pi}}$ bla\n",
    "\n",
    "gives:"
   ]
  },
  {
   "cell_type": "markdown",
   "metadata": {},
   "source": [
    "bla $\\frac{1}{\\Bigl(\\sqrt{\\phi \\sqrt{5}}-\\phi\\Bigr) e^{\\frac25 \\pi}}$ bla"
   ]
  },
  {
   "cell_type": "markdown",
   "metadata": {},
   "source": [
    "Taking out the Bigl and Bigr like this:\n",
    "\n",
    "    bla $\\frac{1}{\\sqrt{\\phi \\sqrt{5}}-\\phi e^{\\frac25 \\pi}}$ bla\n",
    "    \n",
    "yeilds:"
   ]
  },
  {
   "cell_type": "markdown",
   "metadata": {},
   "source": [
    "bla $\\frac{1}{\\sqrt{\\phi \\sqrt{5}}-\\phi e^{\\frac25 \\pi}}$ bla"
   ]
  },
  {
   "cell_type": "markdown",
   "metadata": {},
   "source": [
    "Focusing only on the smaller expression:\n",
    "\n",
    "    bla $\\frac25 \\pi$ bla\n",
    "    \n",
    "gives:"
   ]
  },
  {
   "cell_type": "markdown",
   "metadata": {},
   "source": [
    "bla $\\frac25 \\pi$ bla"
   ]
  },
  {
   "cell_type": "markdown",
   "metadata": {},
   "source": [
    "Using sine and cosine in a Latex expression like this:\n",
    "\n",
    "    bla $x \\sin\\phi + z \\cos\\phi$ bla\n",
    "    \n",
    "gives:"
   ]
  },
  {
   "cell_type": "markdown",
   "metadata": {},
   "source": [
    "bla $x \\sin\\phi + z \\cos\\phi$ bla"
   ]
  },
  {
   "cell_type": "markdown",
   "metadata": {},
   "source": [
    "# How to quote multiple lines of code without execution "
   ]
  },
  {
   "cell_type": "markdown",
   "metadata": {},
   "source": [
    "http://nbviewer.jupyter.org/github/ipython/ipython/blob/1.x/examples/notebooks/Part%204%20-%20Markdown%20Cells.ipynb#Embedded-code describes how to quote multiple lines of code instead of executing them. Just prefix each line with four spaces, but **you must add a blank line before and after the section of code** as otherwise it bundles it up with the previous paragraph). That is how I formatted the Latex code in the example above."
   ]
  }
 ],
 "metadata": {
  "kernelspec": {
   "display_name": "Python 2",
   "language": "python",
   "name": "python2"
  },
  "language_info": {
   "codemirror_mode": {
    "name": "ipython",
    "version": 2
   },
   "file_extension": ".py",
   "mimetype": "text/x-python",
   "name": "python",
   "nbconvert_exporter": "python",
   "pygments_lexer": "ipython2",
   "version": "2.7.13"
  }
 },
 "nbformat": 4,
 "nbformat_minor": 2
}
