{
 "cells": [
  {
   "cell_type": "markdown",
   "metadata": {},
   "source": [
    "# Introduction "
   ]
  },
  {
   "cell_type": "markdown",
   "metadata": {},
   "source": [
    "This is a basic tutorial on using Jupyter to use the scipy modules."
   ]
  },
  {
   "cell_type": "markdown",
   "metadata": {},
   "source": [
    "# Example of plotting sine and cosine functions in the same plot"
   ]
  },
  {
   "cell_type": "markdown",
   "metadata": {},
   "source": [
    "Below we plot a sine function from 0 to 2 pi. Pretty much what you would expect:"
   ]
  },
  {
   "cell_type": "code",
   "execution_count": 6,
   "metadata": {
    "scrolled": true
   },
   "outputs": [
    {
     "data": {
      "image/png": "[encoded data removed]",
      "text/plain": [
       "<matplotlib.figure.Figure at 0x7f0468269150>"
      ]
     },
     "metadata": {},
     "output_type": "display_data"
    }
   ],
   "source": [
    "import math\n",
    "import matplotlib as mpl\n",
    "import matplotlib.pyplot as plt  \n",
    "import numpy as np \n",
    "\n",
    "x = np.linspace(0, 2 * math.pi, 50)\n",
    "y = np.sin(x)\n",
    "plt.plot(x, y)\n",
    "plt.show()"
   ]
  },
  {
   "cell_type": "markdown",
   "metadata": {},
   "source": [
    "The x values limit the range of the plot."
   ]
  },
  {
   "cell_type": "markdown",
   "metadata": {},
   "source": [
    "Let's get help on the plt.plot function, so as to understand how to use it, in addition to the tutorial at http://matplotlib.org/users/pyplot_tutorial.html"
   ]
  },
  {
   "cell_type": "code",
   "execution_count": 5,
   "metadata": {},
   "outputs": [
    {
     "name": "stdout",
     "output_type": "stream",
     "text": [
      "Help on function plot in module matplotlib.pyplot:\n",
      "\n",
      "plot(*args, **kwargs)\n",
      "    Plot lines and/or markers to the\n",
      "    :class:`~matplotlib.axes.Axes`.  *args* is a variable length\n",
      "    argument, allowing for multiple *x*, *y* pairs with an\n",
      "    optional format string.  For example, each of the following is\n",
      "    legal::\n",
      "    \n",
      "        plot(x, y)        # plot x and y using default line style and color\n",
      "        plot(x, y, 'bo')  # plot x and y using blue circle markers\n",
      "        plot(y)           # plot y using x as index array 0..N-1\n",
      "        plot(y, 'r+')     # ditto, but with red plusses\n",
      "    \n",
      "    If *x* and/or *y* is 2-dimensional, then the corresponding columns\n",
      "    will be plotted.\n",
      "    \n",
      "    If used with labeled data, make sure that the color spec is not\n",
      "    included as an element in data, as otherwise the last case\n",
      "    ``plot(\"v\",\"r\", data={\"v\":..., \"r\":...)``\n",
      "    can be interpreted as the first case which would do ``plot(v, r)``\n",
      "    using the default line style and color.\n",
      "    \n",
      "    If not used with labeled data (i.e., without a data argument),\n",
      "    an arbitrary number of *x*, *y*, *fmt* groups can be specified, as in::\n",
      "    \n",
      "        a.plot(x1, y1, 'g^', x2, y2, 'g-')\n",
      "    \n",
      "    Return value is a list of lines that were added.\n",
      "    \n",
      "    By default, each line is assigned a different style specified by a\n",
      "    'style cycle'.  To change this behavior, you can edit the\n",
      "    axes.prop_cycle rcParam.\n",
      "    \n",
      "    The following format string characters are accepted to control\n",
      "    the line style or marker:\n",
      "    \n",
      "    ================    ===============================\n",
      "    character           description\n",
      "    ================    ===============================\n",
      "    ``'-'``             solid line style\n",
      "    ``'--'``            dashed line style\n",
      "    ``'-.'``            dash-dot line style\n",
      "    ``':'``             dotted line style\n",
      "    ``'.'``             point marker\n",
      "    ``','``             pixel marker\n",
      "    ``'o'``             circle marker\n",
      "    ``'v'``             triangle_down marker\n",
      "    ``'^'``             triangle_up marker\n",
      "    ``'<'``             triangle_left marker\n",
      "    ``'>'``             triangle_right marker\n",
      "    ``'1'``             tri_down marker\n",
      "    ``'2'``             tri_up marker\n",
      "    ``'3'``             tri_left marker\n",
      "    ``'4'``             tri_right marker\n",
      "    ``'s'``             square marker\n",
      "    ``'p'``             pentagon marker\n",
      "    ``'*'``             star marker\n",
      "    ``'h'``             hexagon1 marker\n",
      "    ``'H'``             hexagon2 marker\n",
      "    ``'+'``             plus marker\n",
      "    ``'x'``             x marker\n",
      "    ``'D'``             diamond marker\n",
      "    ``'d'``             thin_diamond marker\n",
      "    ``'|'``             vline marker\n",
      "    ``'_'``             hline marker\n",
      "    ================    ===============================\n",
      "    \n",
      "    \n",
      "    The following color abbreviations are supported:\n",
      "    \n",
      "    ==========  ========\n",
      "    character   color\n",
      "    ==========  ========\n",
      "    'b'         blue\n",
      "    'g'         green\n",
      "    'r'         red\n",
      "    'c'         cyan\n",
      "    'm'         magenta\n",
      "    'y'         yellow\n",
      "    'k'         black\n",
      "    'w'         white\n",
      "    ==========  ========\n",
      "    \n",
      "    In addition, you can specify colors in many weird and\n",
      "    wonderful ways, including full names (``'green'``), hex\n",
      "    strings (``'#008000'``), RGB or RGBA tuples (``(0,1,0,1)``) or\n",
      "    grayscale intensities as a string (``'0.8'``).  Of these, the\n",
      "    string specifications can be used in place of a ``fmt`` group,\n",
      "    but the tuple forms can be used only as ``kwargs``.\n",
      "    \n",
      "    Line styles and colors are combined in a single format string, as in\n",
      "    ``'bo'`` for blue circles.\n",
      "    \n",
      "    The *kwargs* can be used to set line properties (any property that has\n",
      "    a ``set_*`` method).  You can use this to set a line label (for auto\n",
      "    legends), linewidth, anitialising, marker face color, etc.  Here is an\n",
      "    example::\n",
      "    \n",
      "        plot([1,2,3], [1,2,3], 'go-', label='line 1', linewidth=2)\n",
      "        plot([1,2,3], [1,4,9], 'rs',  label='line 2')\n",
      "        axis([0, 4, 0, 10])\n",
      "        legend()\n",
      "    \n",
      "    If you make multiple lines with one plot command, the kwargs\n",
      "    apply to all those lines, e.g.::\n",
      "    \n",
      "        plot(x1, y1, x2, y2, antialiased=False)\n",
      "    \n",
      "    Neither line will be antialiased.\n",
      "    \n",
      "    You do not need to use format strings, which are just\n",
      "    abbreviations.  All of the line properties can be controlled\n",
      "    by keyword arguments.  For example, you can set the color,\n",
      "    marker, linestyle, and markercolor with::\n",
      "    \n",
      "        plot(x, y, color='green', linestyle='dashed', marker='o',\n",
      "             markerfacecolor='blue', markersize=12).\n",
      "    \n",
      "    See :class:`~matplotlib.lines.Line2D` for details.\n",
      "    \n",
      "    The kwargs are :class:`~matplotlib.lines.Line2D` properties:\n",
      "    \n",
      "      agg_filter: unknown\n",
      "      alpha: float (0.0 transparent through 1.0 opaque) \n",
      "      animated: [True | False] \n",
      "      antialiased or aa: [True | False] \n",
      "      axes: an :class:`~matplotlib.axes.Axes` instance \n",
      "      clip_box: a :class:`matplotlib.transforms.Bbox` instance \n",
      "      clip_on: [True | False] \n",
      "      clip_path: [ (:class:`~matplotlib.path.Path`, :class:`~matplotlib.transforms.Transform`) | :class:`~matplotlib.patches.Patch` | None ] \n",
      "      color or c: any matplotlib color \n",
      "      contains: a callable function \n",
      "      dash_capstyle: ['butt' | 'round' | 'projecting'] \n",
      "      dash_joinstyle: ['miter' | 'round' | 'bevel'] \n",
      "      dashes: sequence of on/off ink in points \n",
      "      drawstyle: ['default' | 'steps' | 'steps-pre' | 'steps-mid' | 'steps-post'] \n",
      "      figure: a :class:`matplotlib.figure.Figure` instance \n",
      "      fillstyle: ['full' | 'left' | 'right' | 'bottom' | 'top' | 'none'] \n",
      "      gid: an id string \n",
      "      label: string or anything printable with '%s' conversion. \n",
      "      linestyle or ls: ['solid' | 'dashed', 'dashdot', 'dotted' | (offset, on-off-dash-seq) | ``'-'`` | ``'--'`` | ``'-.'`` | ``':'`` | ``'None'`` | ``' '`` | ``''``]\n",
      "      linewidth or lw: float value in points \n",
      "      marker: :mod:`A valid marker style <matplotlib.markers>`\n",
      "      markeredgecolor or mec: any matplotlib color \n",
      "      markeredgewidth or mew: float value in points \n",
      "      markerfacecolor or mfc: any matplotlib color \n",
      "      markerfacecoloralt or mfcalt: any matplotlib color \n",
      "      markersize or ms: float \n",
      "      markevery: [None | int | length-2 tuple of int | slice | list/array of int | float | length-2 tuple of float]\n",
      "      path_effects: unknown\n",
      "      picker: float distance in points or callable pick function ``fn(artist, event)`` \n",
      "      pickradius: float distance in points \n",
      "      rasterized: [True | False | None] \n",
      "      sketch_params: unknown\n",
      "      snap: unknown\n",
      "      solid_capstyle: ['butt' | 'round' |  'projecting'] \n",
      "      solid_joinstyle: ['miter' | 'round' | 'bevel'] \n",
      "      transform: a :class:`matplotlib.transforms.Transform` instance \n",
      "      url: a url string \n",
      "      visible: [True | False] \n",
      "      xdata: 1D array \n",
      "      ydata: 1D array \n",
      "      zorder: any number \n",
      "    \n",
      "    kwargs *scalex* and *scaley*, if defined, are passed on to\n",
      "    :meth:`~matplotlib.axes.Axes.autoscale_view` to determine\n",
      "    whether the *x* and *y* axes are autoscaled; the default is\n",
      "    *True*.\n",
      "    \n",
      "    .. note::\n",
      "        In addition to the above described arguments, this function can take a\n",
      "        **data** keyword argument. If such a **data** argument is given, the\n",
      "        following arguments are replaced by **data[<arg>]**:\n",
      "    \n",
      "        * All arguments with the following names: 'x', 'y'.\n",
      "\n"
     ]
    }
   ],
   "source": [
    "help(plt.plot)"
   ]
  },
  {
   "cell_type": "markdown",
   "metadata": {},
   "source": [
    "Let's add in 'bo' string to the mix to get dots on the trace:"
   ]
  },
  {
   "cell_type": "code",
   "execution_count": 10,
   "metadata": {
    "scrolled": true
   },
   "outputs": [
    {
     "data": {
      "image/png": "[encoded data removed]",
      "text/plain": [
       "<matplotlib.figure.Figure at 0x7fea43536910>"
      ]
     },
     "metadata": {},
     "output_type": "display_data"
    }
   ],
   "source": [
    "import math\n",
    "import matplotlib.pyplot as plt  \n",
    "import numpy as np \n",
    "\n",
    "x = np.linspace(0, 2 * math.pi, 50)\n",
    "y = np.sin(x)\n",
    "plt.plot(x, y, 'bo')\n",
    "plt.show()"
   ]
  },
  {
   "cell_type": "markdown",
   "metadata": {},
   "source": [
    "Let's try to add two traces, the second one is a cosine function:"
   ]
  },
  {
   "cell_type": "code",
   "execution_count": 12,
   "metadata": {
    "scrolled": true
   },
   "outputs": [
    {
     "data": {
      "image/png": "[encoded data removed]",
      "text/plain": [
       "<matplotlib.figure.Figure at 0x7fea43406210>"
      ]
     },
     "metadata": {},
     "output_type": "display_data"
    }
   ],
   "source": [
    "import math\n",
    "import matplotlib.pyplot as plt  \n",
    "import numpy as np \n",
    "\n",
    "x = np.linspace(0,2 * math.pi, 50)\n",
    "y1 = np.sin(x)\n",
    "y2 = np.cos(x)\n",
    "\n",
    "plt.plot(x, y1, 'bo', x, y2, 'r+')\n",
    "plt.show()"
   ]
  },
  {
   "cell_type": "code",
   "execution_count": null,
   "metadata": {
    "collapsed": true
   },
   "outputs": [],
   "source": []
  },
  {
   "cell_type": "markdown",
   "metadata": {},
   "source": [
    "# Example of using optimize.fmin on the sine function"
   ]
  },
  {
   "cell_type": "code",
   "execution_count": 8,
   "metadata": {},
   "outputs": [
    {
     "name": "stdout",
     "output_type": "stream",
     "text": [
      "Optimization terminated successfully.\n",
      "         Current function value: -1.000000\n",
      "         Iterations: 17\n",
      "         Function evaluations: 34\n"
     ]
    },
    {
     "data": {
      "text/plain": [
       "array([ 4.71237414])"
      ]
     },
     "execution_count": 8,
     "metadata": {},
     "output_type": "execute_result"
    }
   ],
   "source": [
    "import math\n",
    "import numpy as np\n",
    "from scipy import linalg, optimize\n",
    "\n",
    "# Here, we called this function \"func2\" which is pretty arbitrary. You will need to use better name in practice, of course:\n",
    "def func2(x):\n",
    "    return np.sin(x)\n",
    "\n",
    "optimize.fmin(func2, math.pi - 0.01)"
   ]
  },
  {
   "cell_type": "markdown",
   "metadata": {},
   "source": [
    "Pretty much what we expected. There is a minimum of -1 for this sine wave function (amplitude of 1 here ... would have been different if we multiplied the sine wave by some other factor). We can call the f function to see the value at that point which is pretty darn close to -1:"
   ]
  },
  {
   "cell_type": "code",
   "execution_count": 9,
   "metadata": {},
   "outputs": [
    {
     "data": {
      "text/plain": [
       "-0.99999999988988153"
      ]
     },
     "execution_count": 9,
     "metadata": {},
     "output_type": "execute_result"
    }
   ],
   "source": [
    "func2(4.71237414)"
   ]
  },
  {
   "cell_type": "code",
   "execution_count": 19,
   "metadata": {},
   "outputs": [
    {
     "data": {
      "text/plain": [
       "4.71238898038469"
      ]
     },
     "execution_count": 19,
     "metadata": {},
     "output_type": "execute_result"
    }
   ],
   "source": [
    "math.pi * 2 * 0.75"
   ]
  },
  {
   "cell_type": "markdown",
   "metadata": {},
   "source": [
    "# Example of using optimize.root on the sine function"
   ]
  },
  {
   "cell_type": "code",
   "execution_count": 22,
   "metadata": {},
   "outputs": [
    {
     "name": "stdout",
     "output_type": "stream",
     "text": [
      "Help on function root in module scipy.optimize._root:\n",
      "\n",
      "root(fun, x0, args=(), method='hybr', jac=None, tol=None, callback=None, options=None)\n",
      "    Find a root of a vector function.\n",
      "    \n",
      "    Parameters\n",
      "    ----------\n",
      "    fun : callable\n",
      "        A vector function to find a root of.\n",
      "    x0 : ndarray\n",
      "        Initial guess.\n",
      "    args : tuple, optional\n",
      "        Extra arguments passed to the objective function and its Jacobian.\n",
      "    method : str, optional\n",
      "        Type of solver.  Should be one of\n",
      "    \n",
      "            - 'hybr'             :ref:`(see here) <optimize.root-hybr>`\n",
      "            - 'lm'               :ref:`(see here) <optimize.root-lm>`\n",
      "            - 'broyden1'         :ref:`(see here) <optimize.root-broyden1>`\n",
      "            - 'broyden2'         :ref:`(see here) <optimize.root-broyden2>`\n",
      "            - 'anderson'         :ref:`(see here) <optimize.root-anderson>`\n",
      "            - 'linearmixing'     :ref:`(see here) <optimize.root-linearmixing>`\n",
      "            - 'diagbroyden'      :ref:`(see here) <optimize.root-diagbroyden>`\n",
      "            - 'excitingmixing'   :ref:`(see here) <optimize.root-excitingmixing>`\n",
      "            - 'krylov'           :ref:`(see here) <optimize.root-krylov>`\n",
      "            - 'df-sane'          :ref:`(see here) <optimize.root-dfsane>`\n",
      "    \n",
      "    jac : bool or callable, optional\n",
      "        If `jac` is a Boolean and is True, `fun` is assumed to return the\n",
      "        value of Jacobian along with the objective function. If False, the\n",
      "        Jacobian will be estimated numerically.\n",
      "        `jac` can also be a callable returning the Jacobian of `fun`. In\n",
      "        this case, it must accept the same arguments as `fun`.\n",
      "    tol : float, optional\n",
      "        Tolerance for termination. For detailed control, use solver-specific\n",
      "        options.\n",
      "    callback : function, optional\n",
      "        Optional callback function. It is called on every iteration as\n",
      "        ``callback(x, f)`` where `x` is the current solution and `f`\n",
      "        the corresponding residual. For all methods but 'hybr' and 'lm'.\n",
      "    options : dict, optional\n",
      "        A dictionary of solver options. E.g. `xtol` or `maxiter`, see\n",
      "        :obj:`show_options()` for details.\n",
      "    \n",
      "    Returns\n",
      "    -------\n",
      "    sol : OptimizeResult\n",
      "        The solution represented as a ``OptimizeResult`` object.\n",
      "        Important attributes are: ``x`` the solution array, ``success`` a\n",
      "        Boolean flag indicating if the algorithm exited successfully and\n",
      "        ``message`` which describes the cause of the termination. See\n",
      "        `OptimizeResult` for a description of other attributes.\n",
      "    \n",
      "    See also\n",
      "    --------\n",
      "    show_options : Additional options accepted by the solvers\n",
      "    \n",
      "    Notes\n",
      "    -----\n",
      "    This section describes the available solvers that can be selected by the\n",
      "    'method' parameter. The default method is *hybr*.\n",
      "    \n",
      "    Method *hybr* uses a modification of the Powell hybrid method as\n",
      "    implemented in MINPACK [1]_.\n",
      "    \n",
      "    Method *lm* solves the system of nonlinear equations in a least squares\n",
      "    sense using a modification of the Levenberg-Marquardt algorithm as\n",
      "    implemented in MINPACK [1]_.\n",
      "    \n",
      "    Method *df-sane* is a derivative-free spectral method. [3]_\n",
      "    \n",
      "    Methods *broyden1*, *broyden2*, *anderson*, *linearmixing*,\n",
      "    *diagbroyden*, *excitingmixing*, *krylov* are inexact Newton methods,\n",
      "    with backtracking or full line searches [2]_. Each method corresponds\n",
      "    to a particular Jacobian approximations. See `nonlin` for details.\n",
      "    \n",
      "    - Method *broyden1* uses Broyden's first Jacobian approximation, it is\n",
      "      known as Broyden's good method.\n",
      "    - Method *broyden2* uses Broyden's second Jacobian approximation, it\n",
      "      is known as Broyden's bad method.\n",
      "    - Method *anderson* uses (extended) Anderson mixing.\n",
      "    - Method *Krylov* uses Krylov approximation for inverse Jacobian. It\n",
      "      is suitable for large-scale problem.\n",
      "    - Method *diagbroyden* uses diagonal Broyden Jacobian approximation.\n",
      "    - Method *linearmixing* uses a scalar Jacobian approximation.\n",
      "    - Method *excitingmixing* uses a tuned diagonal Jacobian\n",
      "      approximation.\n",
      "    \n",
      "    .. warning::\n",
      "    \n",
      "        The algorithms implemented for methods *diagbroyden*,\n",
      "        *linearmixing* and *excitingmixing* may be useful for specific\n",
      "        problems, but whether they will work may depend strongly on the\n",
      "        problem.\n",
      "    \n",
      "    .. versionadded:: 0.11.0\n",
      "    \n",
      "    References\n",
      "    ----------\n",
      "    .. [1] More, Jorge J., Burton S. Garbow, and Kenneth E. Hillstrom.\n",
      "       1980. User Guide for MINPACK-1.\n",
      "    .. [2] C. T. Kelley. 1995. Iterative Methods for Linear and Nonlinear\n",
      "        Equations. Society for Industrial and Applied Mathematics.\n",
      "        <http://www.siam.org/books/kelley/>\n",
      "    .. [3] W. La Cruz, J.M. Martinez, M. Raydan. Math. Comp. 75, 1429 (2006).\n",
      "    \n",
      "    Examples\n",
      "    --------\n",
      "    The following functions define a system of nonlinear equations and its\n",
      "    jacobian.\n",
      "    \n",
      "    >>> def fun(x):\n",
      "    ...     return [x[0]  + 0.5 * (x[0] - x[1])**3 - 1.0,\n",
      "    ...             0.5 * (x[1] - x[0])**3 + x[1]]\n",
      "    \n",
      "    >>> def jac(x):\n",
      "    ...     return np.array([[1 + 1.5 * (x[0] - x[1])**2,\n",
      "    ...                       -1.5 * (x[0] - x[1])**2],\n",
      "    ...                      [-1.5 * (x[1] - x[0])**2,\n",
      "    ...                       1 + 1.5 * (x[1] - x[0])**2]])\n",
      "    \n",
      "    A solution can be obtained as follows.\n",
      "    \n",
      "    >>> from scipy import optimize\n",
      "    >>> sol = optimize.root(fun, [0, 0], jac=jac, method='hybr')\n",
      "    >>> sol.x\n",
      "    array([ 0.8411639,  0.1588361])\n",
      "\n"
     ]
    }
   ],
   "source": [
    "help(optimize.root)"
   ]
  },
  {
   "cell_type": "markdown",
   "metadata": {},
   "source": [
    "Let's evaludate the f function (which we know is a sine function) at not quite at the point where it is zero (at pi):"
   ]
  },
  {
   "cell_type": "code",
   "execution_count": 10,
   "metadata": {},
   "outputs": [
    {
     "data": {
      "text/plain": [
       "0.70710678118654757"
      ]
     },
     "execution_count": 10,
     "metadata": {},
     "output_type": "execute_result"
    }
   ],
   "source": [
    "func2(math.pi * 0.75)"
   ]
  },
  {
   "cell_type": "code",
   "execution_count": 12,
   "metadata": {},
   "outputs": [
    {
     "data": {
      "text/plain": [
       "    fjac: array([[-1.]])\n",
       "     fun: array([  1.22464680e-16])\n",
       " message: 'The solution converged.'\n",
       "    nfev: 7\n",
       "     qtf: array([ -5.63483183e-09])\n",
       "       r: array([ 1.])\n",
       "  status: 1\n",
       " success: True\n",
       "       x: array([ 3.14159265])"
      ]
     },
     "execution_count": 12,
     "metadata": {},
     "output_type": "execute_result"
    }
   ],
   "source": [
    "import math\n",
    "import numpy as np\n",
    "from scipy import linalg, optimize\n",
    "\n",
    "# Here, we called this function \"func2\" which is pretty arbitrary. You will need to use better name in practice, of course:\n",
    "def func2(x):\n",
    "    return np.sin(x)\n",
    "\n",
    "optimize.root(func2, math.pi * 0.75)"
   ]
  },
  {
   "cell_type": "markdown",
   "metadata": {},
   "source": [
    "So it found the root at pi. Notice the \"x\" value at the end of the output.\n",
    "\n",
    "You can turn off the verbose output using keyword arguments to the `optimize.root` function."
   ]
  }
 ],
 "metadata": {
  "kernelspec": {
   "display_name": "Python 2",
   "language": "python",
   "name": "python2"
  },
  "language_info": {
   "codemirror_mode": {
    "name": "ipython",
    "version": 2
   },
   "file_extension": ".py",
   "mimetype": "text/x-python",
   "name": "python",
   "nbconvert_exporter": "python",
   "pygments_lexer": "ipython2",
   "version": "2.7.13"
  }
 },
 "nbformat": 4,
 "nbformat_minor": 2
}
